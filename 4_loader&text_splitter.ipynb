{
 "cells": [
  {
   "cell_type": "markdown",
   "id": "95e0f46d-78bb-4665-83c5-c8eea7541dfb",
   "metadata": {},
   "source": [
    "LOADING PDF AND CREATING CHUNKS"
   ]
  },
  {
   "cell_type": "code",
   "execution_count": 1,
   "id": "ae9ba1af-4710-4114-b2e3-ce96fd2ee5c1",
   "metadata": {},
   "outputs": [
    {
     "name": "stdout",
     "output_type": "stream",
     "text": [
      "601\n",
      "page_content='Rocket UniVerse\n",
      "UniVerse BASIC Commands Reference\n",
      "Version 11.3.5\n",
      "January 2023\n",
      "UNV-1135-BASR-1' metadata={'producer': 'Apache FOP Version svn-trunk', 'creator': 'DITA Open Toolkit', 'creationdate': '2023-01-03T18:10:43-05:00', 'title': 'Rocket UniVerse UniVerse BASIC Commands Reference Version 11.3.5', 'author': 'Rocket Software', 'subject': 'Rocket UniVerse', 'source': 'data/example.pdf', 'total_pages': 601, 'page': 0, 'page_label': '1'}\n",
      "page_content='2\n",
      "Notices\n",
      "Edition\n",
      "Publication date: January 2023\n",
      "Book number: UNV-1135-BASR-1\n",
      "Product version: Version 11.3.5\n",
      "Copyright\n",
      "© Rocket Software, Inc. or its affiliates 1985-2023. All Rights Reserved.\n",
      "Trademarks\n",
      "Rocket is a registered trademark of Rocket Software, Inc. For a list of Rocket registered trademarks go\n",
      "to: www.rocketsoftware.com/about/legal. All other products or services mentioned in this document\n",
      "may be covered by the trademarks, service marks, or product names of their respective owners.\n",
      "Examples\n",
      "This information might contain examples of data and reports. The examples include the names of\n",
      "individuals, companies, brands, and products. All of these names are fictitious and any similarity to\n",
      "the names and addresses used by an actual business enterprise is entirely coincidental.\n",
      "License agreement\n",
      "This software and the associated documentation are proprietary and confidential to Rocket Software,' metadata={'producer': 'Apache FOP Version svn-trunk', 'creator': 'DITA Open Toolkit', 'creationdate': '2023-01-03T18:10:43-05:00', 'title': 'Rocket UniVerse UniVerse BASIC Commands Reference Version 11.3.5', 'author': 'Rocket Software', 'subject': 'Rocket UniVerse', 'source': 'data/example.pdf', 'total_pages': 601, 'page': 1, 'page_label': '2'}\n",
      "page_content='Examples\n",
      "This information might contain examples of data and reports. The examples include the names of\n",
      "individuals, companies, brands, and products. All of these names are fictitious and any similarity to\n",
      "the names and addresses used by an actual business enterprise is entirely coincidental.\n",
      "License agreement\n",
      "This software and the associated documentation are proprietary and confidential to Rocket Software,\n",
      "Inc. or its affiliates, are furnished under license, and may be used and copied only in accordance with\n",
      "the terms of such license.\n",
      "Note:  This product may contain encryption technology. Many countries prohibit or restrict the\n",
      "use, import, or export of encryption technologies, and current use, import, and export regulations\n",
      "should be followed when exporting this product.' metadata={'producer': 'Apache FOP Version svn-trunk', 'creator': 'DITA Open Toolkit', 'creationdate': '2023-01-03T18:10:43-05:00', 'title': 'Rocket UniVerse UniVerse BASIC Commands Reference Version 11.3.5', 'author': 'Rocket Software', 'subject': 'Rocket UniVerse', 'source': 'data/example.pdf', 'total_pages': 601, 'page': 1, 'page_label': '2'}\n",
      "page_content='3\n",
      "Corporate information\n",
      "Rocket Software, Inc. develops enterprise infrastructure products in four key areas: storage, networks,\n",
      "and compliance; database servers and tools; business information and analytics; and application\n",
      "development, integration, and modernization.\n",
      "Website: www.rocketsoftware.com\n",
      "Rocket Global Headquarters\n",
      "77 4th Avenue, Suite 100\n",
      "Waltham, MA 02451-1468\n",
      "USA\n",
      "To contact Rocket Software by telephone for any reason, including obtaining pre-sales information\n",
      "and technical support, use one of the following telephone numbers.\n",
      "Country Toll-free telephone number\n",
      "United States 1-855-577-4323\n",
      "Australia 1-800-823-405\n",
      "Belgium 0800-266-65\n",
      "Canada 1-855-577-4323\n",
      "China 400-120-9242\n",
      "France 08-05-08-05-62\n",
      "Germany 0800-180-0882\n",
      "Italy 800-878-295\n",
      "Japan 0800-170-5464\n",
      "Netherlands 0-800-022-2961\n",
      "New Zealand 0800-003210\n",
      "South Africa 0-800-980-818\n",
      "United Kingdom 0800-520-0439\n",
      "Contacting Technical Support' metadata={'producer': 'Apache FOP Version svn-trunk', 'creator': 'DITA Open Toolkit', 'creationdate': '2023-01-03T18:10:43-05:00', 'title': 'Rocket UniVerse UniVerse BASIC Commands Reference Version 11.3.5', 'author': 'Rocket Software', 'subject': 'Rocket UniVerse', 'source': 'data/example.pdf', 'total_pages': 601, 'page': 2, 'page_label': '3'}\n",
      "page_content='and technical support, use one of the following telephone numbers.\n",
      "Country Toll-free telephone number\n",
      "United States 1-855-577-4323\n",
      "Australia 1-800-823-405\n",
      "Belgium 0800-266-65\n",
      "Canada 1-855-577-4323\n",
      "China 400-120-9242\n",
      "France 08-05-08-05-62\n",
      "Germany 0800-180-0882\n",
      "Italy 800-878-295\n",
      "Japan 0800-170-5464\n",
      "Netherlands 0-800-022-2961\n",
      "New Zealand 0800-003210\n",
      "South Africa 0-800-980-818\n",
      "United Kingdom 0800-520-0439\n",
      "Contacting Technical Support\n",
      "The Rocket Community is the primary method of obtaining support. If you have current support and\n",
      "maintenance agreements with Rocket Software, you can access the Rocket Community and report\n",
      "a problem, download an update, or read answers to FAQs. To log in to the Rocket Community or to\n",
      "request a Rocket Community account, go to www.rocketsoftware.com/support.\n",
      "In addition to using the Rocket Community to obtain support, you can use one of the telephone\n",
      "numbers that are listed above or send an email to support@rocketsoftware.com.' metadata={'producer': 'Apache FOP Version svn-trunk', 'creator': 'DITA Open Toolkit', 'creationdate': '2023-01-03T18:10:43-05:00', 'title': 'Rocket UniVerse UniVerse BASIC Commands Reference Version 11.3.5', 'author': 'Rocket Software', 'subject': 'Rocket UniVerse', 'source': 'data/example.pdf', 'total_pages': 601, 'page': 2, 'page_label': '3'}\n"
     ]
    }
   ],
   "source": [
    "from langchain.document_loaders import PyPDFLoader\n",
    "from langchain.text_splitter import RecursiveCharacterTextSplitter\n",
    "loader=PyPDFLoader(\"data/example.pdf\")\n",
    "documents=loader.load()\n",
    "print(len(documents))\n",
    "splitter=RecursiveCharacterTextSplitter(\n",
    "    chunk_size=1000,\n",
    "    chunk_overlap=500\n",
    ")\n",
    "chunks=splitter.split_documents(documents)\n",
    "for i in chunks[0:5]:\n",
    "    print(i)    \n",
    "    pr"
   ]
  },
  {
   "cell_type": "markdown",
   "id": "7cfdef69-6e76-4b37-8b04-7def36b0de71",
   "metadata": {},
   "source": [
    "LOADING DATA FROM TEXT LOADER AND SPLITTING "
   ]
  },
  {
   "cell_type": "code",
   "execution_count": 16,
   "id": "7b4f60ed-d9e2-48b6-9ffe-78fff0d869ed",
   "metadata": {},
   "outputs": [
    {
     "name": "stdout",
     "output_type": "stream",
     "text": [
      "1\n",
      "69\n"
     ]
    }
   ],
   "source": [
    "from langchain.document_loaders import TextLoader\n",
    "loader=TextLoader('data/example.txt')\n",
    "docs=loader.load()\n",
    "print(len(docs))\n",
    "chunks=splitter.split_documents(docs)\n",
    "print(len(chunks))"
   ]
  },
  {
   "cell_type": "markdown",
   "id": "e46850c0-7f04-4da8-bab3-6b82bba97885",
   "metadata": {},
   "source": [
    "LOADING DATA FROM WEB AND SPLIITING"
   ]
  },
  {
   "cell_type": "code",
   "execution_count": 20,
   "id": "7c5558c5-395d-46b4-9559-8438863efab4",
   "metadata": {},
   "outputs": [
    {
     "name": "stdout",
     "output_type": "stream",
     "text": [
      "1\n",
      "23\n",
      "Chunk 1:\n",
      "India News | Latest India News Headlines Today and Live Updates from India - Times of IndiaEditionININUSEnglishEnglishहिन्दीमराठीಕನ್ನಡதமிழ்বাংলাമലയാളംతెలుగుગુજરાતીSign InTOIindiaTimes EvokeOperation SindoorCancel PatriarchyMaharashtraDelhiKarnatakaTamil NaduTelanganaUttar PradeshWest BengalGujaratMadhya PradeshBiharChandigarhRajasthanArunachal PradeshAndhra PradeshAssamChhattisgarhGoaHaryanaHimachal PradeshJammu KashmirJharkhandKeralaManipurMeghalayaMizoramNagalandOdishaPunjabSikkimTripuraUttarakhandAndaman Nicobar IslandsDadra Nagar HaveliDaman DiuLakshadweepPondicherryWeb StoriesSaving Our StripesDigital ArrestNewsINDIA NEWSIndia NewsIndia / Jun 13, 2025Air India plane crash: Government says formal probe launched; forming expert panel to examine incidentNEW DELHI: Hours after the Air India plane crashed in Ahmedabad, the government has swiftly moved to initiate a formal investigation, as announced by civil aviation minister Ram Mohan Naidu. The Aircraft Accident Investigation Bureau\n",
      "\n",
      "Chunk 2:\n",
      "Nicobar IslandsDadra Nagar HaveliDaman DiuLakshadweepPondicherryWeb StoriesSaving Our StripesDigital ArrestNewsINDIA NEWSIndia NewsIndia / Jun 13, 2025Air India plane crash: Government says formal probe launched; forming expert panel to examine incidentNEW DELHI: Hours after the Air India plane crashed in Ahmedabad, the government has swiftly moved to initiate a formal investigation, as announced by civil aviation minister Ram Mohan Naidu. The Aircraft Accident Investigation Bureau (AAIB) has beenIndia / Jun 12, 2025Mother from Kurukshetra village, on her way to see daughter in London, dies inAhmedabad air crashIndia / Jun 12, 2025Crypto mining busted in Fazilka, machines and computers found in specially designed sound-proof buildingIndia / Jun 12, 2025India ranked 131 of 148 nations on Global Gender Gap Index 2025India's gender parity ranking slipped to 131 out of 148 countries in the 2025 Global Gender Gap Index, despite a slight improvement in its overall score. The World Economic\n",
      "\n",
      "Chunk 3:\n",
      "/ Jun 12, 2025Mother from Kurukshetra village, on her way to see daughter in London, dies inAhmedabad air crashIndia / Jun 12, 2025Crypto mining busted in Fazilka, machines and computers found in specially designed sound-proof buildingIndia / Jun 12, 2025India ranked 131 of 148 nations on Global Gender Gap Index 2025India's gender parity ranking slipped to 131 out of 148 countries in the 2025 Global Gender Gap Index, despite a slight improvement in its overall score. The World Economic Forum report highlights a decline in female political representation, particularly in Parliament and ministerial roles.India / Jun 12, 2025Ahmedabad plane crash: Amit Shah says couldn't save lives due to heat after crash; confirms one person survivedIndia / Jun 12, 2025Railway strengthens Tatkal booking with Aadhaar verification and OTP authenticationIndia / Jun 12, 2025Meghalaya honeymoon murder: Raj Kushwaha actual mastermind; aides killed as ‘favour to friend’Trending TopicsFaridabad Family\n",
      "\n",
      "Chunk 4:\n",
      "Forum report highlights a decline in female political representation, particularly in Parliament and ministerial roles.India / Jun 12, 2025Ahmedabad plane crash: Amit Shah says couldn't save lives due to heat after crash; confirms one person survivedIndia / Jun 12, 2025Railway strengthens Tatkal booking with Aadhaar verification and OTP authenticationIndia / Jun 12, 2025Meghalaya honeymoon murder: Raj Kushwaha actual mastermind; aides killed as ‘favour to friend’Trending TopicsFaridabad Family SuicideMeghalaya Honeymoon MurderWTC Final Live ScoreBhopal Railway OverbridgeKarnataka SSLC 2 ResultMaharashtra FYJC General Merit ListPlane Crash in Ahmedabad NewsVijay Rupani Videos  04:37PM Modi's Big Declaration In 1st Visit To J&K After Pahalgam Attack | 'Pak Attacked Kashmiriyat'04:37PM Modi's Big Declaration In 1st Visit To J&K After Pahalgam Attack | 'Pak Attacked Kashmiriyat'04:08Sikkim: Landslide Hits Indian Army Camp After River Teesta Swells; 3 Personnel Killed, 6 Missing09:15FULL\n",
      "\n",
      "Chunk 5:\n",
      "SuicideMeghalaya Honeymoon MurderWTC Final Live ScoreBhopal Railway OverbridgeKarnataka SSLC 2 ResultMaharashtra FYJC General Merit ListPlane Crash in Ahmedabad NewsVijay Rupani Videos  04:37PM Modi's Big Declaration In 1st Visit To J&K After Pahalgam Attack | 'Pak Attacked Kashmiriyat'04:37PM Modi's Big Declaration In 1st Visit To J&K After Pahalgam Attack | 'Pak Attacked Kashmiriyat'04:08Sikkim: Landslide Hits Indian Army Camp After River Teesta Swells; 3 Personnel Killed, 6 Missing09:15FULL SPEECH: Tharoor Mocks Pak's Kashmir 'Dream' In Guyana | 'They Want Something They Don't Have'06:36PM Modi's Shocking New Op Sindoor Reveal | '9 Terror Hideouts In Pak Destroyed In Just 22 Mins'03:20Indian Air Force Flaunts Rafale, BrahMos In 1st Video After Decimating Pak Airbases In Op Sindoor04:26Indian Army Shares 1st Video Of Missiles, Russian S-400 In Action During Op Sindoor Against PakPopular India StoriesAir India Gujarat plane crash: 'Why was landing gear down?' Aviation experts on what\n",
      "\n"
     ]
    }
   ],
   "source": [
    "from langchain.document_loaders import WebBaseLoader\n",
    "loader=WebBaseLoader('https://timesofindia.indiatimes.com/india')\n",
    "docs=loader.load()\n",
    "print(len(docs))\n",
    "chunks=splitter.split_documents(docs)\n",
    "print(len(chunks))\n",
    "for i, chunk in enumerate(chunks[:5]):  # print first 5 chunks\n",
    "    print(f\"Chunk {i+1}:\\n{chunk.page_content}\\n\")\n"
   ]
  },
  {
   "cell_type": "code",
   "execution_count": 2,
   "id": "89879a1d-860c-4972-af34-58ad05d4c9ff",
   "metadata": {
    "scrolled": true
   },
   "outputs": [
    {
     "name": "stdout",
     "output_type": "stream",
     "text": [
      "{'producer': 'Apache FOP Version svn-trunk', 'creator': 'DITA Open Toolkit', 'creationdate': '2023-01-03T18:10:43-05:00', 'title': 'Rocket UniVerse UniVerse BASIC Commands Reference Version 11.3.5', 'author': 'Rocket Software', 'subject': 'Rocket UniVerse', 'source': 'data/example.pdf', 'total_pages': 601, 'page': 0, 'page_label': '1'}\n",
      "{'producer': 'Apache FOP Version svn-trunk', 'creator': 'DITA Open Toolkit', 'creationdate': '2023-01-03T18:10:43-05:00', 'title': 'Rocket UniVerse UniVerse BASIC Commands Reference Version 11.3.5', 'author': 'Rocket Software', 'subject': 'Rocket UniVerse', 'source': 'data/example.pdf', 'total_pages': 601, 'page': 1, 'page_label': '2'}\n",
      "{'producer': 'Apache FOP Version svn-trunk', 'creator': 'DITA Open Toolkit', 'creationdate': '2023-01-03T18:10:43-05:00', 'title': 'Rocket UniVerse UniVerse BASIC Commands Reference Version 11.3.5', 'author': 'Rocket Software', 'subject': 'Rocket UniVerse', 'source': 'data/example.pdf', 'total_pages': 601, 'page': 1, 'page_label': '2'}\n",
      "{'producer': 'Apache FOP Version svn-trunk', 'creator': 'DITA Open Toolkit', 'creationdate': '2023-01-03T18:10:43-05:00', 'title': 'Rocket UniVerse UniVerse BASIC Commands Reference Version 11.3.5', 'author': 'Rocket Software', 'subject': 'Rocket UniVerse', 'source': 'data/example.pdf', 'total_pages': 601, 'page': 2, 'page_label': '3'}\n",
      "{'producer': 'Apache FOP Version svn-trunk', 'creator': 'DITA Open Toolkit', 'creationdate': '2023-01-03T18:10:43-05:00', 'title': 'Rocket UniVerse UniVerse BASIC Commands Reference Version 11.3.5', 'author': 'Rocket Software', 'subject': 'Rocket UniVerse', 'source': 'data/example.pdf', 'total_pages': 601, 'page': 2, 'page_label': '3'}\n"
     ]
    }
   ],
   "source": [
    "for chunk in chunks[0:5]:\n",
    "    print(chunk.metadata)"
   ]
  },
  {
   "cell_type": "markdown",
   "id": "7a895868-ed5c-4421-860e-fe88022b6a03",
   "metadata": {},
   "source": [
    "Creating pdf"
   ]
  },
  {
   "cell_type": "code",
   "execution_count": 27,
   "id": "66301635-86ef-40fd-a3b1-d493e38a8fc8",
   "metadata": {},
   "outputs": [
    {
     "data": {
      "text/plain": [
       "''"
      ]
     },
     "execution_count": 27,
     "metadata": {},
     "output_type": "execute_result"
    }
   ],
   "source": [
    "from fpdf import FPDF\n",
    "pdf=FPDF()\n",
    "pdf.add_page()\n",
    "pdf.set_font(\"Arial\", size=12)\n",
    "pdf.multi_cell(0,10,\"\"\"hello my name is vinayak this is the pdf that i have created\"\"\")\n",
    "pdf.output(\"data/sample.pdf\")"
   ]
  },
  {
   "cell_type": "markdown",
   "id": "01b1a6cf-5887-448c-8c64-a7195f193492",
   "metadata": {},
   "source": [
    "LOADING CHUNKS->JSON"
   ]
  },
  {
   "cell_type": "code",
   "execution_count": 29,
   "id": "34d4287c-ae29-431e-9da0-18bb586ef795",
   "metadata": {},
   "outputs": [],
   "source": [
    "import json\n",
    "\n",
    "chunk_data = [{\"content\": chunk.page_content, \"metadata\": chunk.metadata} for chunk in chunks]\n",
    "\n",
    "with open(\"data/chunks.json\", \"w\", encoding=\"utf-8\") as f:\n",
    "    json.dump(chunk_data, f, indent=2)\n"
   ]
  },
  {
   "cell_type": "code",
   "execution_count": null,
   "id": "5698292b-c8d4-46ca-a4a1-34ee27cf9ef0",
   "metadata": {},
   "outputs": [],
   "source": [
    "LOADING CHUNKS -> CSV"
   ]
  },
  {
   "cell_type": "code",
   "execution_count": 31,
   "id": "2c37d2cd-cb40-4963-8b22-577449042b13",
   "metadata": {},
   "outputs": [],
   "source": [
    "import csv\n",
    "\n",
    "with open(\"data/chunks.csv\", \"w\", newline='', encoding='utf-8') as f:\n",
    "    writer = csv.writer(f)\n",
    "    writer.writerow([\"content\", \"source\"]) \n",
    "    for chunk in chunks:\n",
    "        writer.writerow([chunk.page_content, chunk.metadata.get(\"source\", \"\")])"
   ]
  }
 ],
 "metadata": {
  "kernelspec": {
   "display_name": "Python 3 (ipykernel)",
   "language": "python",
   "name": "python3"
  },
  "language_info": {
   "codemirror_mode": {
    "name": "ipython",
    "version": 3
   },
   "file_extension": ".py",
   "mimetype": "text/x-python",
   "name": "python",
   "nbconvert_exporter": "python",
   "pygments_lexer": "ipython3",
   "version": "3.12.10"
  }
 },
 "nbformat": 4,
 "nbformat_minor": 5
}
