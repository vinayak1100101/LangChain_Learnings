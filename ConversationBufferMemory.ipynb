{
 "cells": [
  {
   "cell_type": "code",
   "execution_count": 6,
   "id": "869ab65b-697b-442b-8ead-aa3b7eedc622",
   "metadata": {},
   "outputs": [],
   "source": [
    "from langchain.chains import LLMChain\n",
    "from langchain_core.messages import SystemMessage\n",
    "from langchain.memory import ConversationBufferMemory\n",
    "from langchain_core.prompts import ChatPromptTemplate\n",
    "from langchain_core.prompts.chat import(\n",
    "    MessagesPlaceholder,\n",
    "    ChatPromptTemplate,\n",
    "    HumanMessagePromptTemplate\n",
    ")\n",
    "from langchain.chat_models import init_chat_model"
   ]
  },
  {
   "cell_type": "code",
   "execution_count": 9,
   "id": "1997d544-78d3-4473-8dc7-b8ecbcc5730a",
   "metadata": {},
   "outputs": [
    {
     "data": {
      "text/plain": [
       "True"
      ]
     },
     "execution_count": 9,
     "metadata": {},
     "output_type": "execute_result"
    }
   ],
   "source": [
    "from dotenv import load_dotenv\n",
    "load_dotenv()"
   ]
  },
  {
   "cell_type": "code",
   "execution_count": 12,
   "id": "53c9e04a-e3d8-4b1d-8d35-6f6d9a4542a2",
   "metadata": {},
   "outputs": [],
   "source": [
    "llm=init_chat_model('gemini-2.0-flash',model_provider='google-genai')"
   ]
  },
  {
   "cell_type": "code",
   "execution_count": 35,
   "id": "1fc9126e-cc15-492a-b091-2b2fcb3c5906",
   "metadata": {},
   "outputs": [],
   "source": [
    "prompt=ChatPromptTemplate(\n",
    "    [\n",
    "        MessagesPlaceholder(variable_name=\"chat_history\"),\n",
    "        HumanMessagePromptTemplate.from_template(\"{text}\")\n",
    "    ]\n",
    ")"
   ]
  },
  {
   "cell_type": "code",
   "execution_count": 39,
   "id": "63c99b4c-a95f-49bf-9460-20a02ddbd331",
   "metadata": {},
   "outputs": [],
   "source": [
    "memory=ConversationBufferMemory(memory_key=\"chat_history\",return_messages=True)"
   ]
  },
  {
   "cell_type": "code",
   "execution_count": 40,
   "id": "5a785e5f-9cd4-4d66-9745-411638c814c7",
   "metadata": {},
   "outputs": [],
   "source": [
    "chain=LLMChain(\n",
    "    llm=llm,\n",
    "    prompt=prompt,\n",
    "    memory=memory\n",
    "              )"
   ]
  },
  {
   "cell_type": "code",
   "execution_count": 41,
   "id": "c08db1d4-eab8-460c-a741-1987287f242a",
   "metadata": {},
   "outputs": [
    {
     "name": "stdout",
     "output_type": "stream",
     "text": [
      "{'text': 'Okay, Bob! Nice to meet you. How can I help you today?', 'chat_history': [HumanMessage(content='my name is bob', additional_kwargs={}, response_metadata={}), AIMessage(content='Okay, Bob! Nice to meet you. How can I help you today?', additional_kwargs={}, response_metadata={})]}\n"
     ]
    }
   ],
   "source": [
    "legacy_result = chain.invoke({\"text\": \"my name is bob\"})\n",
    "print(legacy_result)"
   ]
  },
  {
   "cell_type": "code",
   "execution_count": 43,
   "id": "1f864a5c-18ef-4d44-bbbc-f10f55769184",
   "metadata": {},
   "outputs": [
    {
     "name": "stdout",
     "output_type": "stream",
     "text": [
      "As we've established, your name is Bob. Is there something else I can help you with, Bob?\n"
     ]
    }
   ],
   "source": [
    "legacy_result = chain.invoke({\"text\": \"what is my name\"})\n",
    "print(legacy_result['text'])"
   ]
  },
  {
   "cell_type": "code",
   "execution_count": null,
   "id": "6d901690-40aa-42b7-a3c9-7905f8fd5bcb",
   "metadata": {},
   "outputs": [],
   "source": []
  }
 ],
 "metadata": {
  "kernelspec": {
   "display_name": "Python 3 (ipykernel)",
   "language": "python",
   "name": "python3"
  },
  "language_info": {
   "codemirror_mode": {
    "name": "ipython",
    "version": 3
   },
   "file_extension": ".py",
   "mimetype": "text/x-python",
   "name": "python",
   "nbconvert_exporter": "python",
   "pygments_lexer": "ipython3",
   "version": "3.12.10"
  }
 },
 "nbformat": 4,
 "nbformat_minor": 5
}
