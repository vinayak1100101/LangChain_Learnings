{
 "cells": [
  {
   "cell_type": "code",
   "execution_count": 17,
   "id": "ada57bca-c2aa-4592-8308-93266f7be06e",
   "metadata": {},
   "outputs": [],
   "source": [
    "from langchain.document_loaders import TextLoader\n",
    "from langchain.text_splitter import RecursiveCharacterTextSplitter\n",
    "\n",
    "loader=TextLoader('data/example.txt')\n",
    "documents=loader.load()\n",
    "\n",
    "splitter=RecursiveCharacterTextSplitter(chunk_size=500,chunk_overlap=200)\n",
    "chunks=splitter.split_documents(documents)"
   ]
  },
  {
   "cell_type": "markdown",
   "id": "2d6c7ef4-2576-40e0-8d91-5a854ab4e63f",
   "metadata": {},
   "source": [
    "EMBEDDING MODEL"
   ]
  },
  {
   "cell_type": "code",
   "execution_count": 18,
   "id": "7ca1e8fb-89d4-4d0f-95be-7efb876bf316",
   "metadata": {},
   "outputs": [],
   "source": [
    "from langchain_huggingface import HuggingFaceEmbeddings\n",
    "embeddings=HuggingFaceEmbeddings(model_name=\"sentence-transformers/all-mpnet-base-v2\")"
   ]
  },
  {
   "cell_type": "code",
   "execution_count": 19,
   "id": "6a101d05-7010-4131-b45a-26170d187274",
   "metadata": {},
   "outputs": [
    {
     "name": "stdout",
     "output_type": "stream",
     "text": [
      "138\n"
     ]
    }
   ],
   "source": [
    "print(len(chunks))"
   ]
  },
  {
   "cell_type": "markdown",
   "id": "c5870cad-8818-417d-800b-9d414f82f309",
   "metadata": {},
   "source": [
    "EMBEDDINGS CHUNKS INTO VECTOR_DB\n",
    "FAISS(Facebook AI Similarity Search)"
   ]
  },
  {
   "cell_type": "code",
   "execution_count": null,
   "id": "5e7273a8-c49b-4b41-8ba8-14c481027641",
   "metadata": {},
   "outputs": [],
   "source": [
    "from langchain.vectorstores import FAISS\n",
    "vectorstore = FAISS.from_documents(chunks, embedding=embeddings)"
   ]
  },
  {
   "cell_type": "code",
   "execution_count": null,
   "id": "d29d558c-0c3d-4a4e-a6cc-a240086a9f24",
   "metadata": {},
   "outputs": [],
   "source": [
    "vectorstore.save_local('data/faiss_index')"
   ]
  },
  {
   "cell_type": "code",
   "execution_count": null,
   "id": "4e101f46-d8b6-441d-81e9-826f6143e044",
   "metadata": {},
   "outputs": [],
   "source": [
    "vectorstore=FAISS.load_local('data/faiss_index',embeddings,allow_dangerous_deserialization=True)"
   ]
  },
  {
   "cell_type": "code",
   "execution_count": null,
   "id": "3fc76ef5-a670-4146-b92d-17924b85fd74",
   "metadata": {},
   "outputs": [],
   "source": [
    "print(vectorstore)"
   ]
  },
  {
   "cell_type": "raw",
   "id": "9e375b60-fbbe-4d91-ad53-b16425f17109",
   "metadata": {},
   "source": [
    "RUNNING A SIMILARITY SEARCH"
   ]
  },
  {
   "cell_type": "code",
   "execution_count": null,
   "id": "90bf2e44-8de4-48b9-80b2-f107b1eb7b5c",
   "metadata": {},
   "outputs": [],
   "source": [
    "query = 'what is chatgpt'\n",
    "res=vectorstore.similarity_search(query,k=3)\n",
    "print(res)"
   ]
  },
  {
   "cell_type": "code",
   "execution_count": 24,
   "id": "943e4b35-b035-471a-a811-bab777cccec8",
   "metadata": {},
   "outputs": [
    {
     "name": "stdout",
     "output_type": "stream",
     "text": [
      "1 Think of ChatGPT as a blurry JPEG of all the text on the Web. It retains much of the information on the Web, in the same way, that a JPEG retains much of the information of a higher-resolution image, but, if you're looking for an exact sequence of bits, you won't find it; all you will ever get is an approximation. But, because the approximation is presented in the form of grammatical text, which ChatGPT excels at creating, it's usually acceptable. [...] It's also a way to understand the\n",
      "2 ChatGPT is a conversational chatbot and artificial intelligence assistant based on large language models.[28] It can write and debug computer programs;[29] compose music, teleplays, fairy tales, and student essays; answer test questions (sometimes, depending on the test, at a level above the average human test-taker);[30] generate business ideas;[31] write poetry and song lyrics;[32] translate and summarize text;[33] simulate a Linux system; simulate entire chat rooms; or play games like\n",
      "3 Countries where ChatGPT is available[138]\n"
     ]
    }
   ],
   "source": [
    "for i in range(len(res)):\n",
    "    print(i+1,res[i].page_content)"
   ]
  },
  {
   "cell_type": "markdown",
   "id": "2e0b8743-bd16-4310-b390-770fa1f1662b",
   "metadata": {},
   "source": [
    "LangChain Retrival Chain"
   ]
  },
  {
   "cell_type": "code",
   "execution_count": 26,
   "id": "9fc35fba-4590-4c8c-a634-21618ff85e56",
   "metadata": {},
   "outputs": [
    {
     "data": {
      "text/plain": [
       "True"
      ]
     },
     "execution_count": 26,
     "metadata": {},
     "output_type": "execute_result"
    }
   ],
   "source": [
    "from dotenv import load_dotenv\n",
    "load_dotenv()"
   ]
  },
  {
   "cell_type": "code",
   "execution_count": 40,
   "id": "0ef7e058-c139-484d-82dc-ab8312d96bfb",
   "metadata": {},
   "outputs": [],
   "source": [
    "from langchain.chains import RetrievalQA\n",
    "from langchain_openai import ChatOpenAI\n",
    "\n",
    "llm = ChatOpenAI(\n",
    "    temperature=0.7,\n",
    "    model=\"gpt-4o-mini\"\n",
    "    \n",
    ")\n",
    "qa_chain = RetrievalQA.from_llm(\n",
    "    llm, retriever=vectorstore.as_retriever(),return_source_documents=True\n",
    ")\n",
    "response=qa_chain.invoke({'query':'what is the use of chatgpt'})"
   ]
  },
  {
   "cell_type": "code",
   "execution_count": 41,
   "id": "3cf1eefc-2db6-4d6c-b9cf-eb7658ddeece",
   "metadata": {},
   "outputs": [
    {
     "data": {
      "text/plain": [
       "{'query': 'what is the use of chatgpt',\n",
       " 'result': 'ChatGPT can be used for a variety of purposes, including:\\n\\n1. Writing and debugging computer programs.\\n2. Composing music, teleplays, fairy tales, and student essays.\\n3. Answering test questions, sometimes at a level above the average human test-taker.\\n4. Generating business ideas.\\n5. Writing poetry and song lyrics.\\n6. Translating and summarizing text.\\n7. Simulating a Linux system.\\n8. Simulating entire chat rooms.\\n9. Playing games.\\n\\nOverall, it serves as a conversational chatbot and AI assistant that can create human-like responses in text, speech, and images.',\n",
       " 'source_documents': [Document(id='4400fcc0-d860-4539-b00b-f56ea7774ace', metadata={'source': 'data/example.txt'}, page_content=\"Think of ChatGPT as a blurry JPEG of all the text on the Web. It retains much of the information on the Web, in the same way, that a JPEG retains much of the information of a higher-resolution image, but, if you're looking for an exact sequence of bits, you won't find it; all you will ever get is an approximation. But, because the approximation is presented in the form of grammatical text, which ChatGPT excels at creating, it's usually acceptable. [...] It's also a way to understand the\"),\n",
       "  Document(id='1d70d6aa-46e3-4296-ad8d-5eb96941544f', metadata={'source': 'data/example.txt'}, page_content='ChatGPT is a conversational chatbot and artificial intelligence assistant based on large language models.[28] It can write and debug computer programs;[29] compose music, teleplays, fairy tales, and student essays; answer test questions (sometimes, depending on the test, at a level above the average human test-taker);[30] generate business ideas;[31] write poetry and song lyrics;[32] translate and summarize text;[33] simulate a Linux system; simulate entire chat rooms; or play games like'),\n",
       "  Document(id='362cd538-15d0-45df-91a7-faf249628732', metadata={'source': 'data/example.txt'}, page_content='ChatGPT is a generative artificial intelligence chatbot developed by OpenAI and launched in 2022. It uses large language models (LLMs) such as GPT-4o as well as other multimodal models to create human-like responses in text, speech, and images.[2][3] It has access to features such as searching the web, using apps, and running programs.[4][5] It is credited with accelerating the AI boom, an ongoing period of rapid investment in and public attention to the field of artificial intelligence'),\n",
       "  Document(id='b0338f30-6c96-43df-80f4-b7ed738510c4', metadata={'source': 'data/example.txt'}, page_content=\"Users interact with ChatGPT through conversations which consist of text, audio, and image inputs and outputs.[37][38] The user's inputs to these conversations are referred to as prompts.[39] They can explicitly tell ChatGPT to remember aspects of the conversation, and ChatGPT can use these details in future conversations. ChatGPT can also decide for itself to remember details. Users can also choose to disable the memory feature.[37] To prevent offensive outputs from being presented to and\")]}"
      ]
     },
     "execution_count": 41,
     "metadata": {},
     "output_type": "execute_result"
    }
   ],
   "source": [
    "response"
   ]
  },
  {
   "cell_type": "code",
   "execution_count": 43,
   "id": "ae904259-980f-4320-8672-a80181f899f3",
   "metadata": {},
   "outputs": [
    {
     "name": "stdout",
     "output_type": "stream",
     "text": [
      "ChatGPT can be used for a variety of purposes, including:\n",
      "\n",
      "1. Writing and debugging computer programs.\n",
      "2. Composing music, teleplays, fairy tales, and student essays.\n",
      "3. Answering test questions, sometimes at a level above the average human test-taker.\n",
      "4. Generating business ideas.\n",
      "5. Writing poetry and song lyrics.\n",
      "6. Translating and summarizing text.\n",
      "7. Simulating a Linux system.\n",
      "8. Simulating entire chat rooms.\n",
      "9. Playing games.\n",
      "\n",
      "Overall, it serves as a conversational chatbot and AI assistant that can create human-like responses in text, speech, and images.\n"
     ]
    }
   ],
   "source": [
    "print(response['result'])"
   ]
  },
  {
   "cell_type": "code",
   "execution_count": 60,
   "id": "7deb4e4d-74a5-4b3b-835f-a6172996d3eb",
   "metadata": {},
   "outputs": [
    {
     "name": "stdout",
     "output_type": "stream",
     "text": [
      "page_content :Think of ChatGPT as a blurry JPEG of all the text on the Web. It retains much of the information on the Web, in the same way, that a JPEG retains much of the information of a higher-resolution image, but, if you're looking for an exact sequence of bits, you won't find it; all you will ever get is an approximation. But, because the approximation is presented in the form of grammatical text, which ChatGPT excels at creating, it's usually acceptable. [...] It's also a way to understand the\n",
      "page_source : data/example.txt\n",
      "-------------\n",
      "page_content :ChatGPT is a conversational chatbot and artificial intelligence assistant based on large language models.[28] It can write and debug computer programs;[29] compose music, teleplays, fairy tales, and student essays; answer test questions (sometimes, depending on the test, at a level above the average human test-taker);[30] generate business ideas;[31] write poetry and song lyrics;[32] translate and summarize text;[33] simulate a Linux system; simulate entire chat rooms; or play games like\n",
      "page_source : data/example.txt\n",
      "-------------\n",
      "page_content :ChatGPT is a generative artificial intelligence chatbot developed by OpenAI and launched in 2022. It uses large language models (LLMs) such as GPT-4o as well as other multimodal models to create human-like responses in text, speech, and images.[2][3] It has access to features such as searching the web, using apps, and running programs.[4][5] It is credited with accelerating the AI boom, an ongoing period of rapid investment in and public attention to the field of artificial intelligence\n",
      "page_source : data/example.txt\n",
      "-------------\n",
      "page_content :Users interact with ChatGPT through conversations which consist of text, audio, and image inputs and outputs.[37][38] The user's inputs to these conversations are referred to as prompts.[39] They can explicitly tell ChatGPT to remember aspects of the conversation, and ChatGPT can use these details in future conversations. ChatGPT can also decide for itself to remember details. Users can also choose to disable the memory feature.[37] To prevent offensive outputs from being presented to and\n",
      "page_source : data/example.txt\n",
      "-------------\n"
     ]
    }
   ],
   "source": [
    "for doc in response['source_documents']:\n",
    "    print(\"page_content :\"+doc.page_content)\n",
    "    print(\"page_source : \"+doc.metadata['source'])\n",
    "    print(\"-------------\")"
   ]
  },
  {
   "cell_type": "markdown",
   "id": "f9dc6a97-e10e-4213-8cf4-3eb87c47ce39",
   "metadata": {},
   "source": [
    "USING CHROMADB FOR VECTOR SIMILARITY SEARCH"
   ]
  },
  {
   "cell_type": "markdown",
   "id": "660e15c1-3699-46ac-9ea9-58ce0760f7de",
   "metadata": {},
   "source": [
    "Loading pdf to docs"
   ]
  },
  {
   "cell_type": "code",
   "execution_count": 2,
   "id": "474fc042-20c0-41e7-b66b-975167996b4d",
   "metadata": {},
   "outputs": [
    {
     "name": "stdout",
     "output_type": "stream",
     "text": [
      "pdf loaded to docs\n"
     ]
    }
   ],
   "source": [
    "from langchain.document_loaders import PyPDFLoader\n",
    "loader=PyPDFLoader('data/ai_example.pdf')\n",
    "docs=loader.load()\n"
   ]
  },
  {
   "cell_type": "markdown",
   "id": "0d1dccc2-7145-4821-a0ee-f103bc8809f0",
   "metadata": {},
   "source": [
    "Chunks Generation"
   ]
  },
  {
   "cell_type": "code",
   "execution_count": 3,
   "id": "38f2e716-47d0-41e6-b378-055b402fe2d5",
   "metadata": {},
   "outputs": [
    {
     "name": "stdout",
     "output_type": "stream",
     "text": [
      "Chunks are generated They are 177\n"
     ]
    }
   ],
   "source": [
    "from langchain.text_splitter import RecursiveCharacterTextSplitter\n",
    "splitter=RecursiveCharacterTextSplitter(chunk_size=500,chunk_overlap=200)\n",
    "chunks=splitter.split_documents(docs)"
   ]
  },
  {
   "cell_type": "markdown",
   "id": "98f972a9-d7ac-496c-a2b2-fc8aed468b16",
   "metadata": {},
   "source": [
    "For Embedding Using HuggingFace"
   ]
  },
  {
   "cell_type": "code",
   "execution_count": 4,
   "id": "2d2356a6-95ab-401b-b435-1cd02c02aff1",
   "metadata": {},
   "outputs": [
    {
     "name": "stdout",
     "output_type": "stream",
     "text": [
      "Hugging face embeddings were using\n"
     ]
    }
   ],
   "source": [
    "from langchain_huggingface import HuggingFaceEmbeddings\n",
    "embeddings=HuggingFaceEmbeddings(model_name=\"sentence-transformers/all-mpnet-base-v2\")"
   ]
  },
  {
   "cell_type": "markdown",
   "id": "4090fd6e-d8f1-487b-8914-b9ace2a8c78d",
   "metadata": {},
   "source": [
    "Chroma db setup"
   ]
  },
  {
   "cell_type": "code",
   "execution_count": 5,
   "id": "ac297d08-b9c1-4a1e-865e-5927ffc1c313",
   "metadata": {},
   "outputs": [],
   "source": [
    "from langchain_chroma import Chroma\n",
    "vector_store=Chroma(collection_name=\"example_collection\",\n",
    "                    embedding_function=embeddings,\n",
    "                    persist_directory='data/chroma_langchain_db')"
   ]
  },
  {
   "cell_type": "markdown",
   "id": "cbeaad56-9a7e-47b1-bbb6-784070085177",
   "metadata": {},
   "source": [
    "Generating unique id for each doc to represent"
   ]
  },
  {
   "cell_type": "code",
   "execution_count": 7,
   "id": "0863f98d-f073-400a-b4c1-784c17dcc280",
   "metadata": {},
   "outputs": [],
   "source": [
    "from uuid import uuid4\n",
    "uuids=[str(uuid4()) for _ in range(len(chunks))]"
   ]
  },
  {
   "cell_type": "markdown",
   "id": "2be7750b-09eb-4a5d-ae44-aabe2b5516b3",
   "metadata": {},
   "source": [
    "Adding chunks and id to vextor_db"
   ]
  },
  {
   "cell_type": "code",
   "execution_count": 8,
   "id": "4d7028bb-a743-4a57-a236-6697e7def002",
   "metadata": {},
   "outputs": [
    {
     "data": {
      "text/plain": [
       "['20e48c8d-8d23-4f7e-a9df-dba93c70d6a7',\n",
       " '476b2987-68ae-4339-872b-84e302c20e1f',\n",
       " 'ce05ad3a-e4c3-406f-9a4b-3027b245f47e',\n",
       " 'd2cff11c-bff6-4c80-8385-91fad0f72739',\n",
       " '48082439-bed5-4b53-8903-3ad57e7127cf',\n",
       " 'df859ee2-c1ad-4cd1-aef8-050fcaede0aa',\n",
       " '1982dfb4-681f-4847-96d3-9b9553907612',\n",
       " '2a8a6b95-9218-4b25-b847-9f2f885e213e',\n",
       " 'efe987a7-4de0-4db0-8847-45594dfd29bb',\n",
       " 'aa7371d8-c0d8-4bcb-9d09-0521ae9c5804',\n",
       " '80f31ac5-9775-46b2-8fe8-1a06804c4f95',\n",
       " '282dde8c-8696-44a3-9fd1-f589a830252a',\n",
       " '8a98edd5-b315-4a96-b575-3a5435852bdd',\n",
       " 'f3473a5f-eeae-465a-abb3-de5bca391c2a',\n",
       " 'cc4bb652-26f4-4215-83c6-138a3ecf1338',\n",
       " '4c7c3d7b-640e-4360-90c0-ee9179f38755',\n",
       " 'd2616945-e360-4796-a4c8-009ef164df78',\n",
       " '6eded412-4738-4d22-8e5c-206621179adc',\n",
       " 'abc2a08a-69e5-40cb-9d58-14f72f11f070',\n",
       " '368a1f7a-032f-4209-a565-cf6ce9b38c90',\n",
       " '089c71c7-372d-4c44-bc49-fa876dc62979',\n",
       " '5f81504c-fb9d-4bb6-8f39-8182abbe5491',\n",
       " '8669295b-f85f-4ffe-a3d5-f2120996b57f',\n",
       " '2c051f1c-cc35-478c-8ed5-f5b750c67fef',\n",
       " 'e9708e8e-4149-45a6-b407-7318c33451ad',\n",
       " '066b13b3-b5b5-4108-999b-993100186b07',\n",
       " '588ecd01-56d6-4c15-a4b9-8486da06421f',\n",
       " '38358c41-5dbb-4e3d-b0e4-860eba7a7aa5',\n",
       " '82f6ccd6-b90c-402b-92c3-15d3f8b3cd83',\n",
       " '624c7e1b-69fb-42b0-8db6-832a2358b85b',\n",
       " 'c0e9c5ca-3bd0-496d-b458-77446cc5c8d9',\n",
       " '8ca22ee7-91f3-404f-a2fd-e6de99c86ace',\n",
       " 'b874c084-4bcf-4bac-ae0a-92763bcd7440',\n",
       " '9ed25b4e-95d4-4d38-b9a1-4ba479aacdd0',\n",
       " '5f7d04dd-56ef-489e-854d-da97565723e5',\n",
       " 'af4a1ec4-08fd-48a5-af00-591204ba251f',\n",
       " '2860c268-b475-4e1b-8916-3f4397827a15',\n",
       " '190a0e7f-250a-4331-be73-bfb9cce1522b',\n",
       " '905fe5a1-fc17-415d-9b1c-5cce6c430519',\n",
       " '46b35772-9d6b-43b1-8304-7b0804d229d8',\n",
       " 'a89c8797-5b09-4767-b63d-9ee8f52621cc',\n",
       " 'a47b0e48-fdd3-479b-a3f1-ab59a28c8f25',\n",
       " '97492d58-fe1b-4a01-8589-1a1b07756186',\n",
       " '2777b090-c0c7-41ad-9502-d1189a79dae5',\n",
       " 'ebc00b51-486b-4793-9065-3dc74ae0e2e7',\n",
       " '251fb884-6fa4-4c33-889e-c2bcc334ffc0',\n",
       " '5499f411-8c51-4c07-9cb7-1f8fc4ab42bb',\n",
       " 'd5511e70-75f3-4101-bd52-0bbf45cba37d',\n",
       " 'fbeb0d4a-ebee-4858-9233-71587fef34a5',\n",
       " '962e6762-4e80-4333-8ce0-f6876e757490',\n",
       " '22fe60f7-9c21-475b-a5bc-d4516bf6aa69',\n",
       " '24c53380-d4cd-4530-9561-543d4bbebe5d',\n",
       " 'd473fe42-8f38-44ba-b909-e4b0ddee3b0e',\n",
       " 'bf158130-1f60-4415-a8cc-2eeb5a18ea21',\n",
       " '509a418b-59e1-4293-8f9f-222f80c64a75',\n",
       " 'c745dc2c-5fb6-4c83-862f-a5ccbf51cc64',\n",
       " '195ddfd4-402b-4ab8-bbab-b1003c5a65ad',\n",
       " '79779db9-4342-4429-b2d5-c267ccb91ee7',\n",
       " '44f6799e-677b-43fd-ace3-4e628f8ca878',\n",
       " '83f92b02-ed48-49d1-a43f-3d9ecdd979c8',\n",
       " 'e873c48d-1081-4262-a7bf-56ea047ec721',\n",
       " 'e5f59d17-0ff8-4534-976e-36437a4486c3',\n",
       " '48286590-6a48-43c1-95d1-dae23f9cc409',\n",
       " 'a2b2fce9-70f9-4add-9f18-16fab04f7177',\n",
       " '499f39db-0aa4-4e5b-9744-e7543f33cd2f',\n",
       " '251eff9c-f8fe-4f49-ad89-522a2db1b71a',\n",
       " '5508c220-2010-4d55-980d-5095a27a0809',\n",
       " '181cbe23-f6f5-4964-a32b-468c8cb39f1b',\n",
       " 'e4b2ca8d-c283-4967-a917-67d3d1ddd190',\n",
       " '9f6671d7-ee76-4ec2-a460-2aa003c25698',\n",
       " 'd603ef34-3654-4e17-be39-3ea1df38e837',\n",
       " 'b49d1027-96cf-4909-9e46-a9e659526c9e',\n",
       " 'f1573488-a7b9-4063-a773-ec2f56b6a318',\n",
       " '897c29b3-cdad-4293-968e-fc86dedca53f',\n",
       " 'c76d6fa7-7449-45ae-ac7c-70c57c034bb2',\n",
       " 'd92ff83b-3418-4793-8f28-b1b7e31d2665',\n",
       " 'e2c920a8-6379-4c5d-9a17-9b8aa67d14f3',\n",
       " '4a86438c-a93a-4604-a209-73d1a4582370',\n",
       " '8fdc7ce9-2034-49fa-a606-c651f43ef639',\n",
       " '41177c8a-d1b3-4402-b3cf-de170588421a',\n",
       " 'ad3f2a3d-d51a-454b-a2bc-341a1f00f072',\n",
       " 'e1b015d0-9951-4f01-a606-956e14b54ed6',\n",
       " '2d401e86-0c7c-42a6-8eeb-ae038b2c5c5a',\n",
       " 'b6f32ac6-455c-4f27-87aa-32af35fdaacc',\n",
       " 'efc6b916-547e-45a2-9411-f22a0c0fd858',\n",
       " '88a89dff-4be0-48bf-ba9c-8951ed5ab051',\n",
       " '632f512f-31e9-4f4d-8a88-876f5b00a010',\n",
       " '45ff22c2-0b87-43fd-ae55-963c727b94ac',\n",
       " '7863f5ed-311c-41ef-b7e0-3f89f1867495',\n",
       " '8e8d9162-9a72-4538-ba87-3726cbdf686c',\n",
       " '81b9608c-3550-4022-9787-37dd6cb32512',\n",
       " 'ddd3d12c-aa9b-478c-a3f1-20c66606d4b7',\n",
       " '4dafb0d9-08d1-4e40-b326-be1be11692ae',\n",
       " '7e3f2c43-74f6-4810-ab93-0e9d3e7ae247',\n",
       " '463421c7-ce87-46f4-9128-fce2d49c4169',\n",
       " '40352412-38c9-4fff-8f28-f0f0b0d527a6',\n",
       " 'd6812c1a-de35-405a-9668-16ffaa7418a3',\n",
       " '2b4055a3-1080-48fb-a63d-a38f710232f7',\n",
       " '59b11a79-b3c0-48be-bd72-b13d13fe1dfd',\n",
       " '8a08a0ce-737d-412c-8594-340d7eadfa5c',\n",
       " 'fc26f8af-cabf-4019-9f00-519773a81f32',\n",
       " 'c55f6a24-24b5-4630-bd4e-2b8942e36846',\n",
       " 'e8c1c8bd-af4d-43e7-967c-044edfa94a38',\n",
       " '1531a115-088e-4af7-91f5-2be9c4919300',\n",
       " '35af25d5-3107-48e2-8066-c7584b9a07ef',\n",
       " 'ccbde56f-6d10-49b2-b350-e36ce3166ec2',\n",
       " '6fb23bfb-5d1f-4807-b395-c333df0ef81c',\n",
       " 'cd0bedf4-9423-4057-97e6-ac0dfa2ccaf2',\n",
       " '1d0d5b2e-a68a-4620-bacb-17be96685bee',\n",
       " '5771b529-a8b7-42b2-ac63-c6d6664cf3ba',\n",
       " 'e5042757-a73a-48fc-aa2d-b9edf4d08f7e',\n",
       " '46f3cabf-b379-42bb-ace8-0b7dc54ae267',\n",
       " 'd0fc014f-0cdd-4dfa-9a6c-6bb824c0c57c',\n",
       " '0ff9f861-3036-431b-b1d0-a7b6a0bd129c',\n",
       " '3b05fd31-e156-4f5f-867a-813aced43744',\n",
       " '680c68ca-ac87-4b28-a9a8-4a9c8c0e44b2',\n",
       " '6df80d61-4929-4161-8472-1466fcdd679b',\n",
       " '9672a0dc-2418-4f78-bcac-6ce8e07a56fd',\n",
       " '5d084b07-3deb-4c78-849f-ac8f901fd948',\n",
       " '59f8f30d-49a7-4610-9983-cc8cafc700cb',\n",
       " '67769eec-b44b-4670-a599-7b09b57ffc31',\n",
       " '9635e2f7-0cc0-4265-9ae3-f1170f0b3eb6',\n",
       " '71b59da6-9b38-4148-9a6e-938d1870c82f',\n",
       " '26523aca-3545-4475-b27e-079a7be269c4',\n",
       " '8d4fa606-e5a5-45ec-aa88-6974b8ad12f5',\n",
       " 'c54801de-ac3d-439a-a794-627607101e10',\n",
       " '22a27b8c-5226-45f2-92cf-fbe2f73c325b',\n",
       " '7b9505b1-3ea7-472a-bbf0-ea6f8bb46561',\n",
       " '0cbc7db3-4853-4a12-902c-81d51f2d38cd',\n",
       " '99e7b71f-c83c-4cac-9369-d8f283898084',\n",
       " '2cfaec76-de07-495c-b742-37056a7dd114',\n",
       " '3b1494d6-9d85-4dc5-b17c-57790e8d89de',\n",
       " '34b0af1b-6c5c-49b5-bde9-85c64a9de6d6',\n",
       " 'c578d918-51d4-4a41-ae1d-667ae52bd109',\n",
       " '504cd2ea-1923-440d-8688-d2129d04e5be',\n",
       " '892a738a-7104-4100-9266-6da9a68a827b',\n",
       " '395c248d-be28-4d10-941d-c349b5614987',\n",
       " '1923ea24-9003-42bd-95f9-c80f3a09b4b1',\n",
       " '5b6884f4-bfd9-479c-a5d8-e4903125b8ee',\n",
       " 'b5d3d5d2-dbb6-49c6-a2ea-70d4710c0c6a',\n",
       " '257ad773-a126-4491-83b3-a32070e9fa47',\n",
       " '16406dea-1cd6-4b79-9356-322c1ed059c6',\n",
       " '4a75c8f9-52cd-4d3e-aba4-cc205d65e74e',\n",
       " '08969b54-cf8d-40d2-bc10-625f577c1d6e',\n",
       " 'cff903f4-48dc-4998-a941-dcfe4498e05e',\n",
       " '40f43101-6a34-4bdf-b3e7-2ad904f8a1b1',\n",
       " '1b93024e-1aed-44ad-a92d-38c8ee41a41d',\n",
       " '64136c11-79ee-438c-98ba-e3cc33f155a8',\n",
       " '8e5372e0-7349-4f32-9e41-2b39933f606d',\n",
       " '739e98d1-c705-43a7-a7e0-9b4bdb470684',\n",
       " '4fe55661-fb59-4ef3-af91-2cdde0fc3119',\n",
       " '04e57549-398e-49af-a435-77810a595225',\n",
       " '14121d2d-9603-4e79-9095-7435b5b0962c',\n",
       " 'cd57089a-65c8-4e09-8d64-74e0dcf200ac',\n",
       " '399bacc2-8aaf-4eea-a888-afd0692018b4',\n",
       " '678fd950-85cd-48bb-9572-6cf114f0851d',\n",
       " '4c07ad30-1022-4c8a-b494-83ab503e7cf8',\n",
       " 'efab459f-1ad9-40e0-8b31-af5228ee64eb',\n",
       " '01ebab68-98ee-421d-a5e8-a19dab7a8c9f',\n",
       " 'efc6aba8-99a6-479c-9186-b0b68eba057b',\n",
       " '5d42d330-bbce-4c73-bc79-330f71507760',\n",
       " '7e880049-d192-4396-8d13-cafb709c4784',\n",
       " '5aaf6ef1-6057-42cb-b808-4344ebb5b6f6',\n",
       " 'fa47bc01-9f46-4250-ab02-db888c5b6635',\n",
       " '63b66564-ab8f-4b39-869c-7b6b3d302a33',\n",
       " '96d237d2-b272-4f94-92d1-eebda5a6f226',\n",
       " '5d19b7d5-a979-4bbc-a06e-d5baff1bdd79',\n",
       " '770d5c35-6b85-4554-bc57-77d4515ab4c5',\n",
       " 'b35ac2f5-856a-4f20-acba-5e68942db54e',\n",
       " 'bc792266-7464-4526-ac71-bfaef8bc5756',\n",
       " 'ac65c93e-6fd5-4258-9832-ff294ca61968',\n",
       " '42467e6b-a897-4a54-9573-c4061e213a75',\n",
       " 'a690a977-d447-44a4-baec-2d3a9644bfb3',\n",
       " '16cac1ed-544c-49a6-92d9-0e68c6177a1b',\n",
       " '24263301-a4be-4eb2-bbf7-8487c46a8471',\n",
       " '7e9b3868-9867-489a-87c8-75c804fb145b',\n",
       " '64511c30-f9af-49e4-9e06-63181ccfd1ee']"
      ]
     },
     "execution_count": 8,
     "metadata": {},
     "output_type": "execute_result"
    }
   ],
   "source": [
    "vector_store.add_documents(documents=chunks,ids=uuids)"
   ]
  },
  {
   "cell_type": "markdown",
   "id": "de2e2c7b-2c46-418a-ba01-3e2f6558baf1",
   "metadata": {},
   "source": [
    "Similary search -query "
   ]
  },
  {
   "cell_type": "code",
   "execution_count": 9,
   "id": "a40025df-3652-4a90-b234-8e5a9b6d9d45",
   "metadata": {},
   "outputs": [
    {
     "name": "stdout",
     "output_type": "stream",
     "text": [
      "[Document(id='20e48c8d-8d23-4f7e-a9df-dba93c70d6a7', metadata={'creator': 'Microsoft® Word 2013', 'page_label': '1', 'page': 0, 'producer': 'Microsoft® Word 2013', 'moddate': '2024-11-18T12:03:19+05:30', 'creationdate': '2024-11-18T12:03:19+05:30', 'total_pages': 34, 'source': 'data/ai_example.pdf', 'author': 'acer'}, page_content='ARTIFICIAL INTELLIGENCE \\n1 | P a g e   \\n \\n Artificial Intelligence \\nDefinition:  \\nIn simple terms, we can define AI as a machine that can simulate human thought \\nprocess and can take actions based on those thoughts and even draw  \\nconclusions. It should also be able to correct itself, if it makes a mistake. This \\nalso means that AI based computer would be able to make a decision in a given \\nsituation like human beings and in some cases even better \\nAccording to Niti Aayog:'), Document(id='82f6ccd6-b90c-402b-92c3-15d3f8b3cd83', metadata={'total_pages': 34, 'source': 'data/ai_example.pdf', 'moddate': '2024-11-18T12:03:19+05:30', 'producer': 'Microsoft® Word 2013', 'creationdate': '2024-11-18T12:03:19+05:30', 'page': 2, 'author': 'acer', 'creator': 'Microsoft® Word 2013', 'page_label': '3'}, page_content='may contribute to social isolation and disconnection by reducing face -to-face interactions and \\ninterpersonal relationships. \\n \\nAI, ML & DL \\nAI-Artificial Intelligence (AI) Refers to any technique that enables computers to \\nmimic human intelligence. It gives the ability to machines to recognize a \\nhuman’s face; to move and manipulate objects; to understand the voice \\ncommands by humans, and also do other tasks. The AI-enabled machines'), Document(id='476b2987-68ae-4339-872b-84e302c20e1f', metadata={'page': 0, 'source': 'data/ai_example.pdf', 'producer': 'Microsoft® Word 2013', 'page_label': '1', 'total_pages': 34, 'author': 'acer', 'creationdate': '2024-11-18T12:03:19+05:30', 'creator': 'Microsoft® Word 2013', 'moddate': '2024-11-18T12:03:19+05:30'}, page_content='also means that AI based computer would be able to make a decision in a given \\nsituation like human beings and in some cases even better \\nAccording to Niti Aayog: \\nAI refers to the ability of machines to perform cognitive tasks like thinking, perceiving, learning, problem \\nsolving and decision making. Initially conceived as a technology that could mimic human intelligence, AI \\nhas evolved in ways that far exceed its original conc eption. With incredible advances made in data')]\n"
     ]
    }
   ],
   "source": [
    "results=vector_store.similarity_search('What is ai',k=3)\n",
    "print(results)"
   ]
  },
  {
   "cell_type": "code",
   "execution_count": 16,
   "id": "fcd74067-2f05-44fb-80bb-eddfaecf8913",
   "metadata": {},
   "outputs": [
    {
     "name": "stdout",
     "output_type": "stream",
     "text": [
      "ARTIFICIAL INTELLIGENCE \n",
      "1 | P a g e   \n",
      " \n",
      " Artificial Intelligence \n",
      "Definition:  \n",
      "In simple terms, we can define AI as a machine that can simulate human thought \n",
      "process and can take actions based on those thoughts and even draw  \n",
      "conclusions. It should also be able to correct itself, if it makes a mistake. This \n",
      "also means that AI based computer would be able to make a decision in a given \n",
      "situation like human beings and in some cases even better \n",
      "According to Niti Aayog:\n",
      "source :data/ai_example.pdf\n",
      "may contribute to social isolation and disconnection by reducing face -to-face interactions and \n",
      "interpersonal relationships. \n",
      " \n",
      "AI, ML & DL \n",
      "AI-Artificial Intelligence (AI) Refers to any technique that enables computers to \n",
      "mimic human intelligence. It gives the ability to machines to recognize a \n",
      "human’s face; to move and manipulate objects; to understand the voice \n",
      "commands by humans, and also do other tasks. The AI-enabled machines\n",
      "source :data/ai_example.pdf\n",
      "also means that AI based computer would be able to make a decision in a given \n",
      "situation like human beings and in some cases even better \n",
      "According to Niti Aayog: \n",
      "AI refers to the ability of machines to perform cognitive tasks like thinking, perceiving, learning, problem \n",
      "solving and decision making. Initially conceived as a technology that could mimic human intelligence, AI \n",
      "has evolved in ways that far exceed its original conc eption. With incredible advances made in data\n",
      "source :data/ai_example.pdf\n"
     ]
    }
   ],
   "source": [
    "for res in results:\n",
    "    print(res.page_content+\"\\n\"+\"source :\"+res.metadata['source'])"
   ]
  },
  {
   "cell_type": "code",
   "execution_count": null,
   "id": "406458be-b857-4dde-895d-26dd4b14d281",
   "metadata": {},
   "outputs": [],
   "source": []
  }
 ],
 "metadata": {
  "kernelspec": {
   "display_name": "Python 3 (ipykernel)",
   "language": "python",
   "name": "python3"
  },
  "language_info": {
   "codemirror_mode": {
    "name": "ipython",
    "version": 3
   },
   "file_extension": ".py",
   "mimetype": "text/x-python",
   "name": "python",
   "nbconvert_exporter": "python",
   "pygments_lexer": "ipython3",
   "version": "3.12.10"
  }
 },
 "nbformat": 4,
 "nbformat_minor": 5
}
