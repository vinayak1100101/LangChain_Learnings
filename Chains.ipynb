{
 "cells": [
  {
   "cell_type": "code",
   "execution_count": 76,
   "id": "32797025-499d-476d-82bb-003c24db70cf",
   "metadata": {},
   "outputs": [],
   "source": [
    "from langchain.chains import LLMChain\n",
    "from langchain_core.prompts import PromptTemplate\n",
    "from langchain_openai import ChatOpenAI"
   ]
  },
  {
   "cell_type": "code",
   "execution_count": 77,
   "id": "1e00db2c-f414-4857-b581-47b0cf46078c",
   "metadata": {},
   "outputs": [
    {
     "data": {
      "text/plain": [
       "True"
      ]
     },
     "execution_count": 77,
     "metadata": {},
     "output_type": "execute_result"
    }
   ],
   "source": [
    "from dotenv import  load_dotenv\n",
    "load_dotenv()"
   ]
  },
  {
   "cell_type": "code",
   "execution_count": 78,
   "id": "e904144a-1ccd-4ea2-a33f-7bcd10896662",
   "metadata": {},
   "outputs": [],
   "source": [
    "llm=ChatOpenAI(model=\"gpt-4o-mini\")"
   ]
  },
  {
   "cell_type": "code",
   "execution_count": 79,
   "id": "105d94dd-5aa7-4ee3-ac35-67bb0acfc32d",
   "metadata": {},
   "outputs": [],
   "source": [
    "prompt1=PromptTemplate.from_template(\"Write a title for the {input}\")\n",
    "chain1=LLMChain(\n",
    "    llm=llm,\n",
    "    prompt=prompt1\n",
    ")"
   ]
  },
  {
   "cell_type": "code",
   "execution_count": 80,
   "id": "e441ec0c-f9f1-4e0d-a629-e3cdd9ac2114",
   "metadata": {},
   "outputs": [],
   "source": [
    "prompt2=PromptTemplate.from_template(\"write a summary for the {title}\")\n",
    "chain2=LLMChain(\n",
    "    llm=llm,\n",
    "    prompt=prompt2\n",
    "    )"
   ]
  },
  {
   "cell_type": "code",
   "execution_count": 81,
   "id": "c6bbeeb4-0d97-4d7a-b6fc-f1de8bb13b97",
   "metadata": {
    "scrolled": true
   },
   "outputs": [
    {
     "data": {
      "text/plain": [
       "{'input': 'Write a title for the tell me anything about langchain',\n",
       " 'text': '\"Exploring Langchain: A Comprehensive Guide to Building Language-Driven Applications\"'}"
      ]
     },
     "execution_count": 81,
     "metadata": {},
     "output_type": "execute_result"
    }
   ],
   "source": [
    "chain1(\"Write a title for the tell me anything about langchain\")"
   ]
  },
  {
   "cell_type": "markdown",
   "id": "d9d07c60-ea3d-4ee2-bc62-fb138e187ae6",
   "metadata": {},
   "source": [
    "SIMPLE SEQUENTIAL CHAIN(SISO)"
   ]
  },
  {
   "cell_type": "code",
   "execution_count": 82,
   "id": "48421560-ed58-4d50-af0c-03f472f1460d",
   "metadata": {},
   "outputs": [
    {
     "data": {
      "text/plain": [
       "{'input': 'tell me anything about langchain',\n",
       " 'output': '\"Unleashing the Power of LangChain: A Deep Dive into Its Capabilities and Applications\" provides an in-depth exploration of LangChain, a framework designed to facilitate the development of applications that leverage language models. The summary highlights LangChain\\'s modular architecture, which allows developers to integrate various components like data loaders, prompts, and output parsers seamlessly. The article discusses the versatility of LangChain in use cases such as chatbots, document analysis, and automated content generation, showcasing how it can enhance productivity and creativity.\\n\\nKey features of LangChain are emphasized, including its ability to connect with different data sources, support for prompt engineering, and integration with third-party APIs. The article also analyzes real-world applications and success stories, illustrating how businesses and researchers are overcoming challenges in natural language processing and generating impactful solutions. Overall, the piece underscores LangChain’s potential to transform the way developers approach language-driven applications, making it a significant tool in the evolving field of artificial intelligence.'}"
      ]
     },
     "execution_count": 82,
     "metadata": {},
     "output_type": "execute_result"
    }
   ],
   "source": [
    "from langchain.chains import SimpleSequentialChain\n",
    "simple_chain=SimpleSequentialChain(chains=[chain1,chain2])\n",
    "result=simple_chain.invoke('tell me anything about langchain')\n",
    "result"
   ]
  },
  {
   "cell_type": "markdown",
   "id": "98502e87-125a-469d-a38c-b767c3875aaa",
   "metadata": {},
   "source": [
    "SEQUENTIAL CHAIN (MIMO)"
   ]
  },
  {
   "cell_type": "code",
   "execution_count": 83,
   "id": "e861476c-2700-4098-8124-6d72057b200c",
   "metadata": {},
   "outputs": [
    {
     "name": "stdout",
     "output_type": "stream",
     "text": [
      "\n",
      "\n",
      "\u001b[1m> Entering new SequentialChain chain...\u001b[0m\n",
      "\n",
      "\u001b[1m> Finished chain.\u001b[0m\n"
     ]
    },
    {
     "data": {
      "text/plain": [
       "{'input': 'langchain',\n",
       " 'title': '\"Unlocking the Power of LangChain: Building Intelligent Applications with Language Models\"',\n",
       " 'summary': '\"Unlocking the Power of LangChain: Building Intelligent Applications with Language Models\" is a comprehensive guide that explores the capabilities of LangChain, a framework designed to facilitate the development of applications using language models. The summary highlights the following key points:\\n\\n1. **Introduction to LangChain**: The book introduces readers to the LangChain framework, emphasizing its architecture and components that streamline the integration of language models into applications.\\n\\n2. **Core Concepts**: It delves into essential concepts such as chains, agents, and memory, illustrating how these elements work together to enhance the functionality and interactivity of applications.\\n\\n3. **Practical Applications**: The guide provides a variety of use cases, showcasing how LangChain can be employed to build intelligent applications across different domains—including chatbots, content generation, and data analysis.\\n\\n4. **Best Practices**: Readers are introduced to best practices for effectively utilizing LangChain, including tips on optimizing performance and managing large datasets.\\n\\n5. **Real-World Examples**: The book features real-world examples and case studies that demonstrate the successful application of LangChain in diverse scenarios, offering insights into its practical benefits.\\n\\n6. **Future Trends**: Finally, it discusses the future of language models and the evolving landscape of AI-driven applications, encouraging developers to innovate and explore new possibilities with LangChain.\\n\\nOverall, the guide serves as a valuable resource for developers and technologists looking to harness the power of language models to create intelligent, responsive applications.'}"
      ]
     },
     "execution_count": 83,
     "metadata": {},
     "output_type": "execute_result"
    }
   ],
   "source": [
    "from langchain.chains import SequentialChain\n",
    "prompt1=PromptTemplate.from_template(\"Write a title for the {input}\")\n",
    "prompt2=PromptTemplate.from_template(\"write a summary for the {title}\")\n",
    "chain1=LLMChain(\n",
    "    llm=llm,\n",
    "    prompt=prompt1,\n",
    "    output_key=\"title\"\n",
    ")\n",
    "chain2=LLMChain(\n",
    "    llm=llm,\n",
    "    prompt=prompt2,\n",
    "    output_key=\"summary\",\n",
    ")\n",
    "seq_chain=SequentialChain(chains=[chain1,chain2],input_variables=[\"input\"],output_variables=[\"title\",\"summary\"],verbose=True)\n",
    "seq_chain({\"input\":\"langchain\"})"
   ]
  },
  {
   "cell_type": "code",
   "execution_count": 84,
   "id": "b550ba1a-03e1-45e8-84b9-904103f37c8f",
   "metadata": {
    "scrolled": true
   },
   "outputs": [
    {
     "name": "stdout",
     "output_type": "stream",
     "text": [
      "\n",
      "\n",
      "\u001b[1m> Entering new ConversationChain chain...\u001b[0m\n",
      "Prompt after formatting:\n",
      "\u001b[32;1m\u001b[1;3mThe following is a friendly conversation between a human and an AI. The AI is talkative and provides lots of specific details from its context. If the AI does not know the answer to a question, it truthfully says it does not know.\n",
      "\n",
      "Current conversation:\n",
      "\n",
      "Human: Hi, I am Vinay.\n",
      "AI:\u001b[0m\n",
      "\n",
      "\u001b[1m> Finished chain.\u001b[0m\n",
      "\n",
      "\n",
      "\u001b[1m> Entering new ConversationChain chain...\u001b[0m\n",
      "Prompt after formatting:\n",
      "\u001b[32;1m\u001b[1;3mThe following is a friendly conversation between a human and an AI. The AI is talkative and provides lots of specific details from its context. If the AI does not know the answer to a question, it truthfully says it does not know.\n",
      "\n",
      "Current conversation:\n",
      "Human: Hi, I am Vinay.\n",
      "AI: Hello, Vinay! It's great to meet you! How's your day going so far? Anything interesting on your mind?\n",
      "Human: What did I just say?\n",
      "AI:\u001b[0m\n",
      "\n",
      "\u001b[1m> Finished chain.\u001b[0m\n"
     ]
    },
    {
     "data": {
      "text/plain": [
       "'You just introduced yourself and said, \"Hi, I am Vinay.\" It\\'s nice to have you here, Vinay! If there’s anything specific you\\'d like to discuss or ask about, feel free to let me know!'"
      ]
     },
     "execution_count": 84,
     "metadata": {},
     "output_type": "execute_result"
    }
   ],
   "source": [
    "from langchain.chains import ConversationChain\n",
    "from langchain.memory import ConversationBufferMemory\n",
    "memory=ConversationBufferMemory()\n",
    "conv_chain=ConversationChain(llm=llm,memory=memory,verbose=True)\n",
    "conv_chain.predict(input=\"Hi, I am Vinay.\")\n",
    "conv_chain.predict(input=\"What did I just say?\")"
   ]
  },
  {
   "cell_type": "code",
   "execution_count": 85,
   "id": "b8cb249f-93e1-4765-8a0e-052f0c7097ee",
   "metadata": {},
   "outputs": [
    {
     "data": {
      "text/plain": [
       "'The following is a friendly conversation between a human and an AI. The AI is talkative and provides lots of specific details from its context. If the AI does not know the answer to a question, it truthfully says it does not know.\\n\\nCurrent conversation:\\n{history}\\nHuman: {input}\\nAI:'"
      ]
     },
     "execution_count": 85,
     "metadata": {},
     "output_type": "execute_result"
    }
   ],
   "source": [
    "conv_chain.prompt.template"
   ]
  },
  {
   "cell_type": "markdown",
   "id": "902f902b-a44b-4e0e-b7a8-af4ac8427906",
   "metadata": {},
   "source": [
    "CHATBOT (MEMORY+LLM)"
   ]
  },
  {
   "cell_type": "code",
   "execution_count": 86,
   "id": "f3b97dc4-1d3f-427b-bbcf-de08f40f059e",
   "metadata": {},
   "outputs": [],
   "source": [
    "from langchain_core.prompts import ChatPromptTemplate,MessagesPlaceholder\n",
    "memory=ConversationBufferMemory(return_messages=True)\n",
    "prompts=ChatPromptTemplate.from_messages(\n",
    "    [\n",
    "        MessagesPlaceholder(variable_name='history'),\n",
    "    ('system',\"You are a helpful ai assistant\"),\n",
    "    ('human',\"{input}\")\n",
    "    ]\n",
    "                          )\n",
    "convo_chain=ConversationChain(llm=llm,memory=memory,prompt=prompts, verbose=True)"
   ]
  },
  {
   "cell_type": "code",
   "execution_count": 87,
   "id": "26496279-96fa-43dc-9b35-f429f42a6299",
   "metadata": {},
   "outputs": [
    {
     "name": "stdout",
     "output_type": "stream",
     "text": [
      "\n",
      "\n",
      "\u001b[1m> Entering new ConversationChain chain...\u001b[0m\n",
      "Prompt after formatting:\n",
      "\u001b[32;1m\u001b[1;3mSystem: You are a helpful ai assistant\n",
      "Human: who are you\u001b[0m\n",
      "\n",
      "\u001b[1m> Finished chain.\u001b[0m\n"
     ]
    },
    {
     "data": {
      "text/plain": [
       "{'input': 'who are you',\n",
       " 'history': [HumanMessage(content='who are you', additional_kwargs={}, response_metadata={}),\n",
       "  AIMessage(content='I am an AI language model created by OpenAI, designed to assist with a wide range of questions and tasks. I can help provide information, answer questions, and engage in conversation on various topics. How can I assist you today?', additional_kwargs={}, response_metadata={})],\n",
       " 'response': 'I am an AI language model created by OpenAI, designed to assist with a wide range of questions and tasks. I can help provide information, answer questions, and engage in conversation on various topics. How can I assist you today?'}"
      ]
     },
     "execution_count": 87,
     "metadata": {},
     "output_type": "execute_result"
    }
   ],
   "source": [
    "convo_chain.invoke({'input':'who are you'})"
   ]
  },
  {
   "cell_type": "code",
   "execution_count": 90,
   "id": "f0363b99-180c-46bc-a2df-133bf16b15cd",
   "metadata": {},
   "outputs": [
    {
     "name": "stdout",
     "output_type": "stream",
     "text": [
      "\n",
      "\n",
      "\u001b[1m> Entering new ConversationChain chain...\u001b[0m\n",
      "Prompt after formatting:\n",
      "\u001b[32;1m\u001b[1;3mHuman: who are you\n",
      "AI: I am an AI language model created by OpenAI, designed to assist with a wide range of questions and tasks. I can help provide information, answer questions, and engage in conversation on various topics. How can I assist you today?\n",
      "System: You are a helpful ai assistant\n",
      "Human: hello my name is vinay\u001b[0m\n",
      "\n",
      "\u001b[1m> Finished chain.\u001b[0m\n"
     ]
    },
    {
     "data": {
      "text/plain": [
       "{'input': 'hello my name is vinay',\n",
       " 'history': [HumanMessage(content='who are you', additional_kwargs={}, response_metadata={}),\n",
       "  AIMessage(content='I am an AI language model created by OpenAI, designed to assist with a wide range of questions and tasks. I can help provide information, answer questions, and engage in conversation on various topics. How can I assist you today?', additional_kwargs={}, response_metadata={}),\n",
       "  HumanMessage(content='hello my name is vinay', additional_kwargs={}, response_metadata={}),\n",
       "  AIMessage(content=\"Hello, Vinay! It's nice to meet you. How can I assist you today?\", additional_kwargs={}, response_metadata={})],\n",
       " 'response': \"Hello, Vinay! It's nice to meet you. How can I assist you today?\"}"
      ]
     },
     "execution_count": 90,
     "metadata": {},
     "output_type": "execute_result"
    }
   ],
   "source": [
    "convo_chain.invoke(\"hello my name is vinay\")"
   ]
  },
  {
   "cell_type": "code",
   "execution_count": 92,
   "id": "065c0d9f-ffa0-4cef-9847-0836165eb1b3",
   "metadata": {},
   "outputs": [
    {
     "name": "stdout",
     "output_type": "stream",
     "text": [
      "\n",
      "\n",
      "\u001b[1m> Entering new ConversationChain chain...\u001b[0m\n",
      "Prompt after formatting:\n",
      "\u001b[32;1m\u001b[1;3mHuman: who are you\n",
      "AI: I am an AI language model created by OpenAI, designed to assist with a wide range of questions and tasks. I can help provide information, answer questions, and engage in conversation on various topics. How can I assist you today?\n",
      "Human: hello my name is vinay\n",
      "AI: Hello, Vinay! It's nice to meet you. How can I assist you today?\n",
      "System: You are a helpful ai assistant\n",
      "Human: can you know my name\u001b[0m\n",
      "\n",
      "\u001b[1m> Finished chain.\u001b[0m\n"
     ]
    },
    {
     "data": {
      "text/plain": [
       "{'input': 'can you know my name',\n",
       " 'history': [HumanMessage(content='who are you', additional_kwargs={}, response_metadata={}),\n",
       "  AIMessage(content='I am an AI language model created by OpenAI, designed to assist with a wide range of questions and tasks. I can help provide information, answer questions, and engage in conversation on various topics. How can I assist you today?', additional_kwargs={}, response_metadata={}),\n",
       "  HumanMessage(content='hello my name is vinay', additional_kwargs={}, response_metadata={}),\n",
       "  AIMessage(content=\"Hello, Vinay! It's nice to meet you. How can I assist you today?\", additional_kwargs={}, response_metadata={}),\n",
       "  HumanMessage(content='can you know my name', additional_kwargs={}, response_metadata={}),\n",
       "  AIMessage(content=\"Yes, you've told me your name is Vinay. How can I help you today?\", additional_kwargs={}, response_metadata={})],\n",
       " 'response': \"Yes, you've told me your name is Vinay. How can I help you today?\"}"
      ]
     },
     "execution_count": 92,
     "metadata": {},
     "output_type": "execute_result"
    }
   ],
   "source": [
    "convo_chain.invoke('can you know my name')"
   ]
  },
  {
   "cell_type": "code",
   "execution_count": null,
   "id": "c9647642-f643-45c7-906a-585724ee0897",
   "metadata": {},
   "outputs": [],
   "source": []
  }
 ],
 "metadata": {
  "kernelspec": {
   "display_name": "Python 3 (ipykernel)",
   "language": "python",
   "name": "python3"
  },
  "language_info": {
   "codemirror_mode": {
    "name": "ipython",
    "version": 3
   },
   "file_extension": ".py",
   "mimetype": "text/x-python",
   "name": "python",
   "nbconvert_exporter": "python",
   "pygments_lexer": "ipython3",
   "version": "3.12.10"
  }
 },
 "nbformat": 4,
 "nbformat_minor": 5
}
